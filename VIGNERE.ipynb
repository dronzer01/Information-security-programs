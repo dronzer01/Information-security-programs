{
 "cells": [
  {
   "cell_type": "code",
   "execution_count": 3,
   "id": "8e67c01d",
   "metadata": {},
   "outputs": [
    {
     "name": "stdout",
     "output_type": "stream",
     "text": [
      "---- Vignere Cipher ----\n",
      "\n",
      "1) Encrypt a Message.\n",
      "2) Decipher a Message.\n",
      "3) Quit.\n",
      "\n",
      "Select a function to run: 1\n",
      "Enter the string:- INFORMATION\n",
      "Enter the key:- TODAY\n",
      "Ciphertext : BBIOPFOWIMG\n",
      "Press Enter to continue.\n",
      "\n",
      "---- Vignere Cipher ----\n",
      "\n",
      "1) Encrypt a Message.\n",
      "2) Decipher a Message.\n",
      "3) Quit.\n",
      "\n",
      "Select a function to run: 2\n",
      "Enter the string:- BBIOPFOWIMG\n",
      "Enter the key:- TODAY\n",
      "Original/Decrypted Text : INFORMATION\n",
      "Press Enter to continue.\n",
      "\n",
      "---- Vignere Cipher ----\n",
      "\n",
      "1) Encrypt a Message.\n",
      "2) Decipher a Message.\n",
      "3) Quit.\n",
      "\n",
      "Select a function to run: 3\n"
     ]
    },
    {
     "ename": "SystemExit",
     "evalue": "0",
     "output_type": "error",
     "traceback": [
      "An exception has occurred, use %tb to see the full traceback.\n",
      "\u001b[1;31mSystemExit\u001b[0m\u001b[1;31m:\u001b[0m 0\n"
     ]
    },
    {
     "name": "stderr",
     "output_type": "stream",
     "text": [
      "c:\\users\\91798\\appdata\\local\\programs\\python\\python39\\lib\\site-packages\\IPython\\core\\interactiveshell.py:3450: UserWarning: To exit: use 'exit', 'quit', or Ctrl-D.\n",
      "  warn(\"To exit: use 'exit', 'quit', or Ctrl-D.\", stacklevel=1)\n"
     ]
    }
   ],
   "source": [
    "import sys\n",
    "def menu():\n",
    "    while True:\n",
    "        print(\"---- Vignere Cipher ----\\n\")\n",
    "        print(\"1) Encrypt a Message.\")\n",
    "        print(\"2) Decipher a Message.\")\n",
    "        print(\"3) Quit.\\n\")\n",
    "        try:\n",
    "            choice = int(input(\"Select a function to run: \"))\n",
    "            if 1 <= choice <= 3:\n",
    "                return choice\n",
    "            else:\n",
    "                print(\"\\nYou must enter a number from 1 to 3\\n\")\n",
    "        except ValueError:\n",
    "            print(\"\\nYou must enter a number from 1 to 3\\n\")\n",
    "        input(\"Press Enter to continue.\\n\")\n",
    "        \n",
    "def generateKey(string, key):\n",
    "    key = list(key)\n",
    "    if len(string) == len(key):\n",
    "        return(key)\n",
    "    else:\n",
    "        for i in range(len(string) -len(key)):\n",
    "            key.append(key[i % len(key)])\n",
    "    return(\"\" . join(key))\n",
    "\n",
    "\n",
    "def cipherText(string, key):\n",
    "    cipher_text = []\n",
    "    for i in range(len(string)):\n",
    "        x = (ord(string[i]) +ord(key[i])) % 26\n",
    "        x += ord('A')\n",
    "        cipher_text.append(chr(x))\n",
    "    return(\"\" . join(cipher_text))\n",
    "\n",
    "\n",
    "def originalText(cipher_text, key):\n",
    "    orig_text = []\n",
    "    for i in range(len(cipher_text)):\n",
    "        x = (ord(cipher_text[i]) -ord(key[i]) + 26) % 26\n",
    "        x += ord('A')\n",
    "        orig_text.append(chr(x))\n",
    "    return(\"\" . join(orig_text))\n",
    "\n",
    "# Driver code\n",
    "if __name__ == \"__main__\":\n",
    "    while(True):\n",
    "        choice=menu()  \n",
    "        if(choice==1):\n",
    "            string =input(\"Enter the string:- \")\n",
    "            string=string.upper()\n",
    "            keyword = input(\"Enter the key:- \")\n",
    "            keyword=keyword.upper()\n",
    "            key = generateKey(string, keyword)\n",
    "            cipher_text = cipherText(string,key)\n",
    "            print(\"Ciphertext :\", cipher_text)\n",
    "        elif(choice==2):\n",
    "            string =input(\"Enter the string:- \")\n",
    "            string=string.upper()\n",
    "            keyword = input(\"Enter the key:- \")\n",
    "            keyword=keyword.upper()\n",
    "            key = generateKey(string, keyword)\n",
    "            print(\"Original/Decrypted Text :\",\n",
    "            originalText(cipher_text, key))\n",
    "        elif choice == 3:\n",
    "            sys.exit(0)\n",
    "        input(\"Press Enter to continue.\\n\")"
   ]
  },
  {
   "cell_type": "code",
   "execution_count": null,
   "id": "9218a68b",
   "metadata": {},
   "outputs": [],
   "source": []
  }
 ],
 "metadata": {
  "kernelspec": {
   "display_name": "Python 3 (ipykernel)",
   "language": "python",
   "name": "python3"
  },
  "language_info": {
   "codemirror_mode": {
    "name": "ipython",
    "version": 3
   },
   "file_extension": ".py",
   "mimetype": "text/x-python",
   "name": "python",
   "nbconvert_exporter": "python",
   "pygments_lexer": "ipython3",
   "version": "3.9.6"
  }
 },
 "nbformat": 4,
 "nbformat_minor": 5
}
