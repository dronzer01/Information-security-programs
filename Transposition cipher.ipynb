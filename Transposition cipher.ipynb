{
 "cells": [
  {
   "cell_type": "code",
   "execution_count": 2,
   "metadata": {},
   "outputs": [
    {
     "name": "stdout",
     "output_type": "stream",
     "text": [
      "Enter keyword text (Contains unique letters only): nehal\n",
      "Enter plain text (Letters only): neha\n",
      "Encryption\n",
      "Plain text is : neha\n",
      "Cipher text is: aehXn\n"
     ]
    }
   ],
   "source": [
    "import math\n",
    "\n",
    "key=input(\"Enter keyword text (Contains unique letters only): \").lower().replace(\" \", \"\")\n",
    "plain_text = input(\"Enter plain text (Letters only): \").lower().replace(\" \", \"\")\n",
    "\n",
    "len_key = len(key)\n",
    "len_plain = len(plain_text)\n",
    "row = int(math.ceil(len_plain / len_key))\n",
    "matrix = [ ['X']*len_key for i in range(row) ]# insert bogus character in each row.\n",
    "\n",
    "\n",
    "t = 0\n",
    "for r in range(row):\n",
    "    for c,ch in enumerate(plain_text[t : t+ len_key]):\n",
    "  #      print(\"r=\",r,\"c=\",c,\"ch=\",ch)\n",
    "        matrix[r][c] = ch\n",
    "    t += len_key\n",
    "  #  print(matrix)\n",
    "\n",
    "# print(matrix)\n",
    "sort_order = sorted([(ch,i) for i,ch in enumerate(key)])  #to make alphabetically order of chars\n",
    "#print(sort_order)\n",
    "\n",
    "cipher_text = ''\n",
    "for ch,c in sort_order:\n",
    "    for r in range(row):\n",
    "        cipher_text += matrix[r][c]\n",
    "  \n",
    "print(\"Encryption\")\n",
    "print(\"Plain text is :\",plain_text)\n",
    "print(\"Cipher text is:\",cipher_text)"
   ]
  },
  {
   "cell_type": "code",
   "execution_count": 3,
   "metadata": {},
   "outputs": [
    {
     "name": "stdout",
     "output_type": "stream",
     "text": [
      "Enter keyword text (Contains unique letters only): nehal\n",
      "Enter cipher text (Letters only): aehXn\n",
      "Decryption\n",
      "Cipher text is: aehxn\n",
      "Plain text is : neha\n"
     ]
    }
   ],
   "source": [
    "import math\n",
    "\n",
    "key=input(\"Enter keyword text (Contains unique letters only): \").lower().replace(\" \", \"\")\n",
    "cipher_text = input(\"Enter cipher text (Letters only): \").lower().replace(\" \", \"\")\n",
    "\n",
    "len_key = len(key)\n",
    "len_cipher = len(cipher_text)\n",
    "row = int(math.ceil(len_cipher / len_key))\n",
    "\n",
    "matrix_new = [ ['X']*len_key for i in range(row) ]\n",
    "key_order = [ key.index(ch) for ch in sorted(list(key))]  #to make original key order when we know keyword\n",
    "# print(key_order)\n",
    "\n",
    "t = 0\n",
    "for c in key_order:\n",
    "    for r,ch in enumerate(plain_text[t : t+ row]):\n",
    "        matrix_new[r][c] = ch\n",
    "    t += row\n",
    "# print(matrix_new) \n",
    "\n",
    "p_text = ''\n",
    "for r in range(row):\n",
    "    for c in range(len_key):\n",
    "        p_text += matrix_new[r][c] if matrix_new[r][c] != 'X' else ''\n",
    "\n",
    "print(\"Decryption\")\n",
    "print(\"Cipher text is:\",cipher_text)\n",
    "print(\"Plain text is :\",plain_text)     "
   ]
  },
  {
   "cell_type": "code",
   "execution_count": null,
   "metadata": {},
   "outputs": [],
   "source": []
  }
 ],
 "metadata": {
  "kernelspec": {
   "display_name": "Python 3",
   "language": "python",
   "name": "python3"
  },
  "language_info": {
   "codemirror_mode": {
    "name": "ipython",
    "version": 3
   },
   "file_extension": ".py",
   "mimetype": "text/x-python",
   "name": "python",
   "nbconvert_exporter": "python",
   "pygments_lexer": "ipython3",
   "version": "3.7.1"
  }
 },
 "nbformat": 4,
 "nbformat_minor": 2
}
