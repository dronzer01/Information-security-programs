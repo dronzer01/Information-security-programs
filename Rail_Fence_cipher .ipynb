{
 "cells": [
  {
   "cell_type": "code",
   "execution_count": 1,
   "id": "46dd7ba4",
   "metadata": {},
   "outputs": [],
   "source": [
    "def rail_fence_encrypt(plaintext, rails):\n",
    "    # Initialize an empty matrix with the number of rows equal to the number of rails\n",
    "    matrix = [['\\n' for i in range(len(plaintext))] for j in range(rails)]\n",
    "    \n",
    "    # Initialize variables for the current row and direction\n",
    "    row = 0\n",
    "    direction = 1\n",
    "    \n",
    "    # Fill in the matrix by iterating through each character in the plaintext\n",
    "    for i in range(len(plaintext)):\n",
    "        # If we've reached the top or bottom row, change direction\n",
    "        if row == 0:\n",
    "            direction = 1\n",
    "        elif row == rails - 1:\n",
    "            direction = -1\n",
    "        \n",
    "        # Add the current character to the matrix\n",
    "        matrix[row][i] = plaintext[i]\n",
    "        \n",
    "        # Move to the next row in the current direction\n",
    "        row += direction\n",
    "    \n",
    "    # Concatenate the rows of the matrix to create the ciphertext\n",
    "    ciphertext = ''\n",
    "    for row in matrix:\n",
    "        ciphertext += ''.join(row)\n",
    "    \n",
    "    return ciphertext.replace('\\n', '')\n",
    "\n",
    "def rail_fence_decrypt(ciphertext, rails):\n",
    "    # Initialize an empty matrix with the number of rows equal to the number of rails\n",
    "    matrix = [['\\n' for i in range(len(ciphertext))] for j in range(rails)]\n",
    "    \n",
    "    # Initialize variables for the current row and direction\n",
    "    row = 0\n",
    "    direction = 1\n",
    "    \n",
    "    # Fill in the matrix with placeholders to mark where the ciphertext characters will go\n",
    "    for i in range(len(ciphertext)):\n",
    "        matrix[row][i] = '_'\n",
    "        \n",
    "        # If we've reached the top or bottom row, change direction\n",
    "        if row == 0:\n",
    "            direction = 1\n",
    "        elif row == rails - 1:\n",
    "            direction = -1\n",
    "        \n",
    "        # Move to the next row in the current direction\n",
    "        row += direction\n",
    "    \n",
    "    # Fill in the matrix with the ciphertext characters by iterating through the string\n",
    "    index = 0\n",
    "    for i in range(rails):\n",
    "        for j in range(len(ciphertext)):\n",
    "            if matrix[i][j] == '_' and index < len(ciphertext):\n",
    "                matrix[i][j] = ciphertext[index]\n",
    "                index += 1\n",
    "    \n",
    "    # Read off the matrix row by row to get the plaintext\n",
    "    plaintext = ''\n",
    "    row = 0\n",
    "    direction = 1\n",
    "    for i in range(len(ciphertext)):\n",
    "        plaintext += matrix[row][i]\n",
    "        \n",
    "        # If we've reached the top or bottom row, change direction\n",
    "        if row == 0:\n",
    "            direction = 1\n",
    "        elif row == rails - 1:\n",
    "            direction = -1\n",
    "        \n",
    "        # Move to the next row in the current direction\n",
    "        row += direction\n",
    "    \n",
    "    return plaintext\n"
   ]
  },
  {
   "cell_type": "code",
   "execution_count": 2,
   "id": "c64a49e9",
   "metadata": {},
   "outputs": [
    {
     "name": "stdout",
     "output_type": "stream",
     "text": [
      "Ciphertext: HOREL OLLWD\n",
      "Decrypted text: HELLO WORLD\n"
     ]
    }
   ],
   "source": [
    "plaintext = \"HELLO WORLD\"\n",
    "rails = 3\n",
    "\n",
    "ciphertext = rail_fence_encrypt(plaintext, rails)\n",
    "print(\"Ciphertext:\", ciphertext)\n",
    "\n",
    "decrypted_text = rail_fence_decrypt(ciphertext, rails)\n",
    "print(\"Decrypted text:\", decrypted_text)\n"
   ]
  },
  {
   "cell_type": "code",
   "execution_count": null,
   "id": "3ef981cc",
   "metadata": {},
   "outputs": [],
   "source": []
  }
 ],
 "metadata": {
  "kernelspec": {
   "display_name": "Python 3 (ipykernel)",
   "language": "python",
   "name": "python3"
  },
  "language_info": {
   "codemirror_mode": {
    "name": "ipython",
    "version": 3
   },
   "file_extension": ".py",
   "mimetype": "text/x-python",
   "name": "python",
   "nbconvert_exporter": "python",
   "pygments_lexer": "ipython3",
   "version": "3.9.6"
  }
 },
 "nbformat": 4,
 "nbformat_minor": 5
}
