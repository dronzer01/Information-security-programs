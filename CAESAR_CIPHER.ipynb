{
 "cells": [
  {
   "cell_type": "code",
   "execution_count": 2,
   "id": "de8c7693",
   "metadata": {},
   "outputs": [
    {
     "name": "stdout",
     "output_type": "stream",
     "text": [
      "Enter plain text:=>Meenakshi\n",
      "Enter key:=>3\n",
      "1.Encryption\n",
      "2.Decryption\n",
      "Enter ur choice1\n",
      "Cipher text=> Phhqdnvkl\n",
      "Do u want to continue(y/n)?y\n",
      "Enter plain text:=>Phhqdnvkl\n",
      "Enter key:=>3\n",
      "1.Encryption\n",
      "2.Decryption\n",
      "Enter ur choice2\n",
      "Cipher text=> Meenakshi\n",
      "Do u want to continue(y/n)?n\n"
     ]
    }
   ],
   "source": [
    "def encrypt(pt,key):\n",
    "    ct=\"\"\n",
    "    for i in range(0,len(pt)):\n",
    "        a=pt[i]\n",
    "        if(a==\" \"):\n",
    "            ct+=\" \"\n",
    "        elif(a>='A' and a<='Z'):\n",
    "            ct+=chr((ord(a)+key-65)%26+65)\n",
    "        elif(a>='a' and a<='z'):\n",
    "            ct+=chr((ord(a)+key-97)%26+97)\n",
    "    return ct\n",
    "\n",
    "def decrypt(pt,key):\n",
    "    ct=\"\"\n",
    "    for i in range(0,len(pt)):\n",
    "        a=pt[i]\n",
    "        if(a==\" \"):\n",
    "            ct+=\" \"\n",
    "        elif(a>='A' and a<='Z'):\n",
    "            ct+=chr((ord(a)-key-65)%26+65)\n",
    "        elif(a>='a' and a<='z'):\n",
    "            ct+=chr((ord(a)-key-97)%26+97)\n",
    "    return ct\n",
    "\n",
    "def main():\n",
    "    ch='y'\n",
    "    while(ch=='y'):\n",
    "        ct=\"\"\n",
    "        pt=input('Enter plain text:=>')\n",
    "        key=int(input('Enter key:=>'))\n",
    "        print('1.Encryption')\n",
    "        print('2.Decryption')\n",
    "        choice=int(input('Enter ur choice'))\n",
    "        if(choice==1):\n",
    "            ct=encrypt(pt,key)\n",
    "            print('Cipher text=>',ct)\n",
    "        elif(choice==2):\n",
    "            ct=decrypt(pt,key)\n",
    "            print('Cipher text=>',ct)\n",
    "        if(choice!=1 and choice!=2):\n",
    "            print('Invalid Input')\n",
    "        ch=input('Do u want to continue(y/n)?')\n",
    "\n",
    "if __name__==\"__main__\":\n",
    "    main()"
   ]
  },
  {
   "cell_type": "code",
   "execution_count": null,
   "id": "13b14568",
   "metadata": {},
   "outputs": [],
   "source": []
  }
 ],
 "metadata": {
  "kernelspec": {
   "display_name": "Python 3 (ipykernel)",
   "language": "python",
   "name": "python3"
  },
  "language_info": {
   "codemirror_mode": {
    "name": "ipython",
    "version": 3
   },
   "file_extension": ".py",
   "mimetype": "text/x-python",
   "name": "python",
   "nbconvert_exporter": "python",
   "pygments_lexer": "ipython3",
   "version": "3.9.6"
  }
 },
 "nbformat": 4,
 "nbformat_minor": 5
}
