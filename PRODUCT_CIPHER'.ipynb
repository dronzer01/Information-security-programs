{
 "cells": [
  {
   "cell_type": "code",
   "execution_count": 2,
   "id": "6bba5a43",
   "metadata": {},
   "outputs": [
    {
     "data": {
      "text/plain": [
       "'xczzu yupzv@'"
      ]
     },
     "execution_count": 2,
     "metadata": {},
     "output_type": "execute_result"
    }
   ],
   "source": [
    "#SymPy is a Python library for symbolic mathematics\n",
    "from sympy import mod_inverse\n",
    "import math\n",
    "\n",
    "def multiplicative_cipher(text,mode,key):\n",
    "    #Dict -> (key,value) pair\n",
    "    char_dict={}\n",
    "    cipher_message = ''\n",
    "    for i in range(26):\n",
    "        char_dict[chr(ord('a')+i)] = i\n",
    "    key_list = list(char_dict.keys())\n",
    "    inv_char_dict = dict(zip(char_dict.values(),char_dict.keys()))\n",
    "    \n",
    "    if mode == 'encrypt':\n",
    "        if math.gcd(26,key) == 1:\n",
    "            for char in text:\n",
    "                if char in key_list:\n",
    "                    new_index = (char_dict[char]*key)%26\n",
    "                    cipher_message = cipher_message + inv_char_dict[new_index]\n",
    "                else:\n",
    "                    cipher_message = cipher_message + char\n",
    "        else:\n",
    "            print('invalid key selected')\n",
    "            \n",
    "        return cipher_message\n",
    "    \n",
    "    if mode == 'decrypt':\n",
    "        mult_inv = mod_inverse(key,26)\n",
    "        for char in text:\n",
    "            if char in key_list:\n",
    "                new_index = (char_dict[char]*mult_inv)%26\n",
    "                cipher_message = cipher_message + inv_char_dict[new_index]\n",
    "            else:\n",
    "                cipher_message = cipher_message + char\n",
    "                \n",
    "    return cipher_message\n",
    "\n",
    "\n",
    "encrypt_message = multiplicative_cipher('hello world@','encrypt',7)\n",
    "encrypt_message\n"
   ]
  },
  {
   "cell_type": "code",
   "execution_count": 3,
   "id": "73351d77",
   "metadata": {},
   "outputs": [
    {
     "data": {
      "text/plain": [
       "'hello world@'"
      ]
     },
     "execution_count": 3,
     "metadata": {},
     "output_type": "execute_result"
    }
   ],
   "source": [
    "\n",
    "encrypt_message = multiplicative_cipher('xczzu yupzv@', 'decrypt',7)\n",
    "encrypt_message"
   ]
  },
  {
   "cell_type": "code",
   "execution_count": null,
   "id": "135a90df",
   "metadata": {},
   "outputs": [],
   "source": []
  }
 ],
 "metadata": {
  "kernelspec": {
   "display_name": "Python 3 (ipykernel)",
   "language": "python",
   "name": "python3"
  },
  "language_info": {
   "codemirror_mode": {
    "name": "ipython",
    "version": 3
   },
   "file_extension": ".py",
   "mimetype": "text/x-python",
   "name": "python",
   "nbconvert_exporter": "python",
   "pygments_lexer": "ipython3",
   "version": "3.9.6"
  }
 },
 "nbformat": 4,
 "nbformat_minor": 5
}
