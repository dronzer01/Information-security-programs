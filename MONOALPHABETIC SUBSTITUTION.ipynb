{
 "cells": [
  {
   "cell_type": "code",
   "execution_count": 1,
   "id": "1b525711",
   "metadata": {},
   "outputs": [
    {
     "name": "stdout",
     "output_type": "stream",
     "text": [
      "Enter the choice:-\n",
      "1)Encryption\n",
      "2)Decryption\n",
      "\n",
      "1\n",
      "Enter plain textMeenakshi\n",
      "Cipher text:->  dttfqalio\n",
      "do you want to continue(y/n)y\n",
      "Enter the choice:-\n",
      "1)Encryption\n",
      "2)Decryption\n",
      "\n",
      "2\n",
      "Enter cipher textdttfqalio\n",
      "Plain text:->  meenakshi\n",
      "do you want to continue(y/n)n\n"
     ]
    }
   ],
   "source": [
    "dronzer=['a','b','c','d','e','f','g','h','i','j','k','l','m','n','o','p','q','r','s','t','u','v','w','x','y','z']\n",
    "dragoon=['q','w','e','r','t','y','u','i','o','p','a','s','d','f','g','h','j','k','l','z','x','c','v','b','n','m']\n",
    "\n",
    "go='y'\n",
    "while(go=='y'):\n",
    "    print(\"Enter the choice:-\\n1)Encryption\\n2)Decryption\\n\")\n",
    "    choice=int(input())\n",
    "    while(choice>2 or choice<1):\n",
    "        print(\"Enter valid choice\\n\")\n",
    "        choice=int(input())\n",
    "    if(choice==1):\n",
    "        pt=input(\"Enter plain text\")\n",
    "        pt=pt.lower()\n",
    "        ptext=list(pt.strip(\" \"))\n",
    "        l=len(ptext)\n",
    "        ctext=[]\n",
    "        ct=\" \"\n",
    "        for i in range(0,l):\n",
    "            a=ptext[i]\n",
    "            b=dronzer.index(a)\n",
    "            ctext.append(dragoon[b])\n",
    "        for j in ctext:\n",
    "            ct+=j\n",
    "        print(\"Cipher text:->\",ct)\n",
    "    else:\n",
    "        ct=input(\"Enter cipher text\")\n",
    "        ct=ct.lower()\n",
    "        ctext=list(pt.strip(\" \"))\n",
    "        l=len(ctext)\n",
    "        ptext=[]\n",
    "        pt=\" \"\n",
    "        for i in range(10,l):\n",
    "            a=ctext[i]\n",
    "            b=dragoon.index(a)\n",
    "            ptext.append(dronzer[b])\n",
    "        for j in ctext:\n",
    "            pt+=j\n",
    "        print(\"Plain text:->\",pt)\n",
    "    go=input(\"do you want to continue(y/n)\")\n",
    "        "
   ]
  },
  {
   "cell_type": "code",
   "execution_count": null,
   "id": "1a3c64c9",
   "metadata": {},
   "outputs": [],
   "source": []
  }
 ],
 "metadata": {
  "kernelspec": {
   "display_name": "Python 3 (ipykernel)",
   "language": "python",
   "name": "python3"
  },
  "language_info": {
   "codemirror_mode": {
    "name": "ipython",
    "version": 3
   },
   "file_extension": ".py",
   "mimetype": "text/x-python",
   "name": "python",
   "nbconvert_exporter": "python",
   "pygments_lexer": "ipython3",
   "version": "3.9.6"
  }
 },
 "nbformat": 4,
 "nbformat_minor": 5
}
